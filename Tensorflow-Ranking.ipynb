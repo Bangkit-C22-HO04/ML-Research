{
  "cells": [
    {
      "cell_type": "markdown",
      "metadata": {
        "id": "_dEaVsqSgNyQ"
      },
      "source": [
        "##### Copyright 2021 The TensorFlow Authors."
      ]
    },
    {
      "cell_type": "code",
      "execution_count": null,
      "metadata": {
        "id": "4FyfuZX-gTKS",
        "vscode": {
          "languageId": "python"
        }
      },
      "outputs": [],
      "source": [
        "#@title Licensed under the Apache License, Version 2.0 (the \"License\");\n",
        "# you may not use this file except in compliance with the License.\n",
        "# You may obtain a copy of the License at\n",
        "#\n",
        "# https://www.apache.org/licenses/LICENSE-2.0\n",
        "#\n",
        "# Unless required by applicable law or agreed to in writing, software\n",
        "# distributed under the License is distributed on an \"AS IS\" BASIS,\n",
        "# WITHOUT WARRANTIES OR CONDITIONS OF ANY KIND, either express or implied.\n",
        "# See the License for the specific language governing permissions and\n",
        "# limitations under the License."
      ]
    },
    {
      "cell_type": "markdown",
      "metadata": {
        "id": "sT8AyHRMNh41"
      },
      "source": [
        "# Recommend movies for users with TensorFlow Ranking\n",
        "\n",
        "<table class=\"tfo-notebook-buttons\" align=\"left\">\n",
        "  <td>\n",
        "    <a target=\"_blank\" href=\"https://www.tensorflow.org/ranking/tutorials/quickstart\"><img src=\"https://www.tensorflow.org/images/tf_logo_32px.png\" />View on TensorFlow.org</a>\n",
        "  </td>\n",
        "  <td>\n",
        "    <a target=\"_blank\" href=\"https://colab.research.google.com/github/tensorflow/ranking/blob/master/docs/tutorials/quickstart.ipynb\"><img src=\"https://www.tensorflow.org/images/colab_logo_32px.png\" />Run in Google Colab</a>\n",
        "  </td>\n",
        "  <td>\n",
        "    <a target=\"_blank\" href=\"https://github.com/tensorflow/ranking/blob/master/docs/tutorials/quickstart.ipynb\"><img src=\"https://www.tensorflow.org/images/GitHub-Mark-32px.png\" />View source on GitHub</a>\n",
        "  </td>\n",
        "  <td>\n",
        "    <a href=\"https://storage.googleapis.com/tensorflow_docs/ranking/docs/tutorials/quickstart.ipynb\"><img src=\"https://www.tensorflow.org/images/download_logo_32px.png\" />Download notebook</a>\n",
        "  </td>\n",
        "</table>"
      ]
    },
    {
      "cell_type": "markdown",
      "metadata": {
        "id": "8f-reQ11gbLB"
      },
      "source": [
        "In this tutorial, we build a simple two tower ranking model using the [MovieLens 100K dataset](https://grouplens.org/datasets/movielens/100k/) with TF-Ranking. We can use this model to rank and recommend movies for a given user according to their predicted user ratings."
      ]
    },
    {
      "cell_type": "markdown",
      "metadata": {
        "id": "qA00wBE2Ntdm"
      },
      "source": [
        "## Setup\n",
        "\n",
        "Install and import the TF-Ranking library:"
      ]
    },
    {
      "cell_type": "code",
      "execution_count": null,
      "metadata": {
        "colab": {
          "base_uri": "https://localhost:8080/"
        },
        "id": "6yzAaM85Z12D",
        "outputId": "7493d6a6-dd90-4e8d-948f-ad9454b0a429",
        "vscode": {
          "languageId": "python"
        }
      },
      "outputs": [
        {
          "name": "stdout",
          "output_type": "stream",
          "text": [
            "\u001b[K     |████████████████████████████████| 141 kB 5.1 MB/s \n",
            "\u001b[K     |████████████████████████████████| 511.7 MB 4.8 kB/s \n",
            "\u001b[K     |████████████████████████████████| 438 kB 40.2 MB/s \n",
            "\u001b[K     |████████████████████████████████| 5.8 MB 42.8 MB/s \n",
            "\u001b[K     |████████████████████████████████| 1.6 MB 36.6 MB/s \n",
            "\u001b[K     |████████████████████████████████| 4.3 MB 5.1 MB/s \n",
            "\u001b[K     |████████████████████████████████| 98 kB 7.0 MB/s \n",
            "\u001b[K     |████████████████████████████████| 85 kB 2.8 MB/s \n",
            "\u001b[?25h"
          ]
        }
      ],
      "source": [
        "!pip install -q tensorflow-ranking\n",
        "# !pip install -q --upgrade tensorflow-datasets\n",
        "!pip install -q tensorflow-recommenders\n",
        "# !pip install -q tf-nightly"
      ]
    },
    {
      "cell_type": "code",
      "execution_count": null,
      "metadata": {
        "id": "n3oYt3R6Nr9l",
        "vscode": {
          "languageId": "python"
        }
      },
      "outputs": [],
      "source": [
        "from typing import Dict, Tuple\n",
        "\n",
        "import tensorflow as tf\n",
        "\n",
        "import tensorflow_ranking as tfr\n",
        "import tensorflow_recommenders as tfrs"
      ]
    },
    {
      "cell_type": "code",
      "execution_count": null,
      "metadata": {
        "colab": {
          "base_uri": "https://localhost:8080/"
        },
        "id": "FryhpOyKC1k_",
        "outputId": "7d7cb225-a3f9-4620-9934-3b972d00c603",
        "vscode": {
          "languageId": "python"
        }
      },
      "outputs": [
        {
          "name": "stdout",
          "output_type": "stream",
          "text": [
            "TF  2.9.1\n",
            "TFR  0.5.0.dev\n",
            "tfds  4.6.0\n"
          ]
        }
      ],
      "source": [
        "print(\"TF \", tf.__version__)\n",
        "print(\"TFR \", tfr.__version__)"
      ]
    },
    {
      "cell_type": "markdown",
      "metadata": {
        "id": "zCxQ1CZcO2wh"
      },
      "source": [
        "## Read the data"
      ]
    },
    {
      "cell_type": "markdown",
      "metadata": {
        "id": "A0sY6-Rtt_Co"
      },
      "source": [
        "Prepare to train a model by creating a ratings dataset and movies dataset. Use `user_id` as the query input feature, `movie_title` as the document input feature, and `user_rating` as the label to train the ranking model."
      ]
    },
    {
      "cell_type": "code",
      "execution_count": null,
      "metadata": {
        "colab": {
          "base_uri": "https://localhost:8080/"
        },
        "id": "erCL0JynoDWN",
        "outputId": "63541433-83fd-49b7-e04e-d2f2f1dfdcfb",
        "vscode": {
          "languageId": "python"
        }
      },
      "outputs": [
        {
          "name": "stdout",
          "output_type": "stream",
          "text": [
            "Mounted at /content/drive\n",
            "/content/drive/.shortcut-targets-by-id/1K1cEMf4s0TjuhlSZB6hFFrZv1OmrI8LI/Company-Based Capstone/ML\n"
          ]
        }
      ],
      "source": [
        "# %%capture --no-display\n",
        "# # Ratings data.\n",
        "# ratings = tfds.load('movielens/100k-ratings', split=\"train\")\n",
        "# # Features of all the available movies.\n",
        "# movies = tfds.load('movielens/100k-movies', split=\"train\")\n",
        "\n",
        "# from google.colab import drive\n",
        "# drive.mount('/content/drive')\n",
        "\n",
        "# %cd 'drive/MyDrive/Company-Based Capstone/ML'"
      ]
    },
    {
      "cell_type": "code",
      "execution_count": null,
      "metadata": {
        "colab": {
          "base_uri": "https://localhost:8080/"
        },
        "id": "6z9fyGPY9lgW",
        "outputId": "15f409db-fbc2-496b-8911-2976540962a9",
        "vscode": {
          "languageId": "python"
        }
      },
      "outputs": [
        {
          "name": "stdout",
          "output_type": "stream",
          "text": [
            "<class 'pandas.core.frame.DataFrame'>\n",
            "RangeIndex: 8054 entries, 0 to 8053\n",
            "Data columns (total 8 columns):\n",
            " #   Column          Non-Null Count  Dtype  \n",
            "---  ------          --------------  -----  \n",
            " 0   user_id         8054 non-null   object \n",
            " 1   hotel_id        8054 non-null   object \n",
            " 2   name            8054 non-null   object \n",
            " 3   rating          8054 non-null   float64\n",
            " 4   review          8054 non-null   object \n",
            " 5   travel_purpose  8054 non-null   object \n",
            " 6   gender          8054 non-null   int64  \n",
            " 7   desktop         8054 non-null   int64  \n",
            "dtypes: float64(1), int64(2), object(5)\n",
            "memory usage: 503.5+ KB\n"
          ]
        }
      ],
      "source": [
        "import pandas as pd\n",
        "\n",
        "convert_dtype = {\n",
        "    'hotel_id': object,\n",
        "    'user_id': object\n",
        "}\n",
        "\n",
        "reviews_df = pd.read_csv('./data/combine-review.csv', dtype=convert_dtype)\n",
        "hotels_df = pd.read_csv('./data/hotels.csv',encoding='windows-1254')\n",
        "reviews_df.info()"
      ]
    },
    {
      "cell_type": "code",
      "execution_count": null,
      "metadata": {
        "colab": {
          "base_uri": "https://localhost:8080/"
        },
        "id": "jHLaW_KX_v-m",
        "outputId": "67e8f200-bcc2-4f01-b3cb-3db1e54f3c8c",
        "vscode": {
          "languageId": "python"
        }
      },
      "outputs": [
        {
          "name": "stdout",
          "output_type": "stream",
          "text": [
            "<class 'pandas.core.frame.DataFrame'>\n",
            "RangeIndex: 256 entries, 0 to 255\n",
            "Data columns (total 7 columns):\n",
            " #   Column        Non-Null Count  Dtype  \n",
            "---  ------        --------------  -----  \n",
            " 0   id            256 non-null    object \n",
            " 1   hotel_name    256 non-null    object \n",
            " 2   hotel_city    256 non-null    object \n",
            " 3   hotel_price   256 non-null    object \n",
            " 4   hotel_type    256 non-null    object \n",
            " 5   hotel_rating  256 non-null    float64\n",
            " 6   total_review  256 non-null    int64  \n",
            "dtypes: float64(1), int64(1), object(5)\n",
            "memory usage: 14.1+ KB\n"
          ]
        }
      ],
      "source": [
        "hotels_df['id'] = hotels_df['id'].astype(str)\n",
        "hotels_df.info()"
      ]
    },
    {
      "cell_type": "code",
      "execution_count": null,
      "metadata": {
        "id": "UkFAEesY9qwN",
        "vscode": {
          "languageId": "python"
        }
      },
      "outputs": [],
      "source": [
        "reviews_df[\"rating\"] = pd.to_numeric(reviews_df[\"rating\"], errors='coerce')\n",
        "reviews_df = reviews_df.dropna()"
      ]
    },
    {
      "cell_type": "code",
      "execution_count": null,
      "metadata": {
        "id": "3g1d_pCpDvlD",
        "vscode": {
          "languageId": "python"
        }
      },
      "outputs": [],
      "source": [
        "reviews_df = reviews_df[reviews_df['hotel_id'] != 'hotel_id']"
      ]
    },
    {
      "cell_type": "code",
      "execution_count": null,
      "metadata": {
        "id": "zrlgnvOQ9wL4",
        "vscode": {
          "languageId": "python"
        }
      },
      "outputs": [],
      "source": [
        "hotels = tf.data.Dataset.from_tensor_slices(dict(hotels_df))\n",
        "reviews = tf.data.Dataset.from_tensor_slices(dict(reviews_df))"
      ]
    },
    {
      "cell_type": "code",
      "execution_count": null,
      "metadata": {
        "colab": {
          "base_uri": "https://localhost:8080/"
        },
        "id": "SqfueRkyoF8e",
        "outputId": "9635ed61-9284-42c3-f91b-0f496bb7d9b6",
        "vscode": {
          "languageId": "python"
        }
      },
      "outputs": [
        {
          "name": "stdout",
          "output_type": "stream",
          "text": [
            "{'desktop': 1,\n",
            " 'gender': 1,\n",
            " 'hotel_id': b'3000010039024',\n",
            " 'name': b'Mochamad B. N.',\n",
            " 'rating': 8.3,\n",
            " 'review': b'Bad Services, Bad cleanliness, Actual Condition too far from Pho'\n",
            "           b'tos. Not recommended.',\n",
            " 'travel_purpose': b'Holiday',\n",
            " 'user_id': b'125987653'}\n"
          ]
        }
      ],
      "source": [
        "import pprint\n",
        "\n",
        "for x in reviews.take(1).as_numpy_iterator():\n",
        "  pprint.pprint(x)"
      ]
    },
    {
      "cell_type": "code",
      "execution_count": null,
      "metadata": {
        "id": "M-mxBYjdO5m7",
        "vscode": {
          "languageId": "python"
        }
      },
      "outputs": [],
      "source": [
        "reviews = reviews.map(lambda x: {\n",
        "    \"hotel_id\": x[\"hotel_id\"],\n",
        "    \"travel_purpose\": x[\"travel_purpose\"],\n",
        "    \"gender\": x[\"gender\"],\n",
        "    \"desktop\": x[\"desktop\"],\n",
        "    \"rating\": x[\"rating\"],\n",
        "})"
      ]
    },
    {
      "cell_type": "markdown",
      "metadata": {
        "id": "5W0HSfmSNCWm"
      },
      "source": [
        "Build vocabularies to convert all user ids and all movie titles into integer indices for embedding layers:"
      ]
    },
    {
      "cell_type": "code",
      "execution_count": null,
      "metadata": {
        "id": "9I1VTEjHzpfX",
        "vscode": {
          "languageId": "python"
        }
      },
      "outputs": [],
      "source": [
        "hotels = reviews.map(lambda x: x[\"hotel_id\"])\n",
        "travels = reviews.map(lambda x: x[\"travel_purpose\"])\n",
        "# zips = reviews.map(lambda x: x[\"user_zip_code\"])\n",
        "\n",
        "travel_vocabulary = tf.keras.layers.StringLookup(\n",
        "    mask_token=None)\n",
        "travel_vocabulary.adapt(travels.batch(256))\n",
        "\n",
        "hotels_vocabulary = tf.keras.layers.StringLookup(\n",
        "    mask_token=None)\n",
        "hotels_vocabulary.adapt(hotels.batch(16))"
      ]
    },
    {
      "cell_type": "code",
      "execution_count": null,
      "metadata": {
        "colab": {
          "base_uri": "https://localhost:8080/"
        },
        "id": "ZMI4lzoZ8IT2",
        "outputId": "feb61ef2-5e6f-46e0-81ba-e7413e5c6185",
        "vscode": {
          "languageId": "python"
        }
      },
      "outputs": [
        {
          "data": {
            "text/plain": [
              "<tf.Tensor: shape=(), dtype=int64, numpy=3>"
            ]
          },
          "execution_count": 14,
          "metadata": {},
          "output_type": "execute_result"
        }
      ],
      "source": [
        "travel_vocabulary('Staycation')"
      ]
    },
    {
      "cell_type": "code",
      "execution_count": null,
      "metadata": {
        "id": "-OnGA6fVqOZR",
        "vscode": {
          "languageId": "python"
        }
      },
      "outputs": [],
      "source": [
        "import numpy as np\n",
        "\n",
        "hotel_id = reviews.batch(1000).map(lambda x: x[\"hotel_id\"])\n",
        "travel_purpose = reviews.batch(1000).map(lambda x: x[\"travel_purpose\"])\n",
        "gender = reviews.batch(1000).map(lambda x: x[\"gender\"])\n",
        "desktop = reviews.batch(1000).map(lambda x: x[\"desktop\"])\n",
        "\n",
        "unique_hotel_id = np.unique(np.concatenate(list(hotel_id)))\n",
        "unique_travel_purpose = np.unique(np.concatenate(list(travel_purpose)))\n",
        "unique_gender = np.unique(np.concatenate(list(gender)))\n",
        "unique_desktop = np.unique(np.concatenate(list(desktop)))\n"
      ]
    },
    {
      "cell_type": "code",
      "execution_count": null,
      "metadata": {
        "colab": {
          "base_uri": "https://localhost:8080/"
        },
        "id": "ti1cZ2MwqVaA",
        "outputId": "9956dc71-b952-4182-8379-cd85ce3a05d1",
        "vscode": {
          "languageId": "python"
        }
      },
      "outputs": [
        {
          "data": {
            "text/plain": [
              "array([b'Backpacking', b'Business', b'Business travel',\n",
              "       b'Culture Sightseeings', b'Family vacation', b'Holiday',\n",
              "       b'Leisure', b'Medical', b'Medical Travel', b'Romantic Vacation',\n",
              "       b'Shopping & Culinary', b'Staycation', b'Transit'], dtype=object)"
            ]
          },
          "execution_count": 16,
          "metadata": {},
          "output_type": "execute_result"
        }
      ],
      "source": [
        "unique_travel_purpose"
      ]
    },
    {
      "cell_type": "markdown",
      "metadata": {
        "id": "zMsmoqWTOTKo"
      },
      "source": [
        "Group by `user_id` to form lists for ranking models:\n"
      ]
    },
    {
      "cell_type": "code",
      "execution_count": null,
      "metadata": {
        "id": "lXY7kX7nOSwH",
        "vscode": {
          "languageId": "python"
        }
      },
      "outputs": [],
      "source": [
        "key_func = lambda x: travel_vocabulary(x[\"travel_purpose\"])\n",
        "reduce_func = lambda key, dataset: dataset.batch(100)\n",
        "ds_train = reviews.group_by_window(\n",
        "    key_func=key_func, reduce_func=reduce_func, window_size=100)"
      ]
    },
    {
      "cell_type": "code",
      "execution_count": null,
      "metadata": {
        "colab": {
          "base_uri": "https://localhost:8080/"
        },
        "id": "57r87tdQlkcT",
        "outputId": "3a83c539-fc6b-429a-a5b3-3b9b65276012",
        "vscode": {
          "languageId": "python"
        }
      },
      "outputs": [
        {
          "name": "stdout",
          "output_type": "stream",
          "text": [
            "Shape of hotel_id: (100,)\n",
            "Example values of hotel_id: [b'3000010039024' b'3000010039024' b'3000010039024' b'3000010039024'\n",
            " b'3000010039024']\n",
            "\n",
            "Shape of travel_purpose: (100,)\n",
            "Example values of travel_purpose: [b'Family vacation' b'Family vacation' b'Family vacation'\n",
            " b'Family vacation' b'Family vacation']\n",
            "\n",
            "Shape of gender: (100,)\n",
            "Example values of gender: [1 1 1 1 0]\n",
            "\n",
            "Shape of desktop: (100,)\n",
            "Example values of desktop: [1 0 0 0 1]\n",
            "\n",
            "Shape of rating: (100,)\n",
            "Example values of rating: [6.6 5.3 8.1 3.6 9.7]\n",
            "\n"
          ]
        }
      ],
      "source": [
        "for x in ds_train.take(1):\n",
        "  for key, value in x.items():\n",
        "    print(f\"Shape of {key}: {value.shape}\")\n",
        "    print(f\"Example values of {key}: {value[:5].numpy()}\")\n",
        "    print()"
      ]
    },
    {
      "cell_type": "markdown",
      "metadata": {
        "id": "YcZJf2qxOeWU"
      },
      "source": [
        "Generate batched features and labels:"
      ]
    },
    {
      "cell_type": "code",
      "execution_count": null,
      "metadata": {
        "id": "ctq2RTOqOfAo",
        "vscode": {
          "languageId": "python"
        }
      },
      "outputs": [],
      "source": [
        "def _features_and_labels(\n",
        "    x: Dict[str, tf.Tensor]) -> Tuple[Dict[str, tf.Tensor], tf.Tensor]:\n",
        "  labels = x.pop(\"rating\")\n",
        "  return x, labels\n",
        "\n",
        "\n",
        "ds_train = ds_train.map(_features_and_labels)\n",
        "\n",
        "ds_train = ds_train.apply(\n",
        "    tf.data.experimental.dense_to_ragged_batch(batch_size=32))"
      ]
    },
    {
      "cell_type": "markdown",
      "metadata": {
        "id": "RJUU3mv-_VdQ"
      },
      "source": [
        "The `user_id` and `movie_title` tensors generated in `ds_train` are of shape `[32, None]`, where the second dimension is 100 in most cases except for the batches when less than 100 items grouped in lists. A model working on ragged tensors is thus used."
      ]
    },
    {
      "cell_type": "code",
      "execution_count": null,
      "metadata": {
        "colab": {
          "base_uri": "https://localhost:8080/"
        },
        "id": "GTquqk1GkIfd",
        "outputId": "4d408837-5f0b-425f-f10e-46fb59aee24c",
        "vscode": {
          "languageId": "python"
        }
      },
      "outputs": [
        {
          "name": "stdout",
          "output_type": "stream",
          "text": [
            "Shape of hotel_id: (32, None)\n",
            "Example values of hotel_id: [[b'3000010039024' b'3000010039024' b'3000010039024']\n",
            " [b'4843' b'4843' b'4843']\n",
            " [b'3000010039024' b'3000010039024' b'3000010039024']]\n",
            "\n",
            "Shape of travel_purpose: (32, None)\n",
            "Example values of travel_purpose: [[b'Family vacation' b'Family vacation' b'Family vacation']\n",
            " [b'Family vacation' b'Family vacation' b'Family vacation']\n",
            " [b'Business travel' b'Business travel' b'Business travel']]\n",
            "\n",
            "Shape of gender: (32, None)\n",
            "Example values of gender: [[1 1 1]\n",
            " [1 1 1]\n",
            " [0 0 1]]\n",
            "\n",
            "Shape of desktop: (32, None)\n",
            "Example values of desktop: [[1 0 0]\n",
            " [0 1 1]\n",
            " [1 1 0]]\n",
            "\n",
            "Shape of label: (32, None)\n",
            "Example values of label: [[6.6 5.3 8.1]\n",
            " [4.  8.6 4. ]\n",
            " [4.  9.9 8.4]]\n"
          ]
        }
      ],
      "source": [
        "for x, label in ds_train.take(1):\n",
        "  for key, value in x.items():\n",
        "    print(f\"Shape of {key}: {value.shape}\")\n",
        "    print(f\"Example values of {key}: {value[:3, :3].numpy()}\")\n",
        "    print()\n",
        "  print(f\"Shape of label: {label.shape}\")\n",
        "  print(f\"Example values of label: {label[:3, :3].numpy()}\")"
      ]
    },
    {
      "cell_type": "markdown",
      "metadata": {
        "id": "Lrch6rVBOB9Q"
      },
      "source": [
        "## Define a model\n",
        "\n",
        "Define a ranking model by inheriting from `tf.keras.Model` and implementing the `call` method:"
      ]
    },
    {
      "cell_type": "code",
      "execution_count": null,
      "metadata": {
        "id": "e5dNbDZwOIHR",
        "vscode": {
          "languageId": "python"
        }
      },
      "outputs": [],
      "source": [
        "class HotelRankingModel(tf.keras.Model):\n",
        "\n",
        "  def __init__(self):\n",
        "    super().__init__()\n",
        "\n",
        "    # # Set up user and movie vocabulary and embedding.\n",
        "    # self.travel_vocab = travel_vocab\n",
        "    # self.hotel_vocab = hotel_vocab\n",
        "    # self.travel_embed = tf.keras.layers.Embedding(\n",
        "    #       travel_vocab.vocabulary_size(), 128\n",
        "    #     )\n",
        "    # self.hotel_embed = tf.keras.layers.Embedding(\n",
        "    #       hotel_vocab.vocabulary_size(), 128\n",
        "    #     )\n",
        "    # self.gender_embed = tf.keras.layers.Embedding(2, 16)\n",
        "    # self.device_embed = tf.keras.layers.Embedding(2, 16)\n",
        "\n",
        "    # Compute embeddings for hotel id.\n",
        "    self.hotel_embeddings = tf.keras.Sequential([\n",
        "      tf.keras.layers.StringLookup(\n",
        "        vocabulary=unique_hotel_id, mask_token=None),\n",
        "      tf.keras.layers.Embedding(len(unique_hotel_id) + 1, 128),\n",
        "      tf.keras.layers.Dense(256, activation=\"tanh\"),\n",
        "    ])\n",
        "\n",
        "    # Compute embeddings for travel purpose.\n",
        "    self.travel_embeddings = tf.keras.Sequential([\n",
        "      tf.keras.layers.StringLookup(\n",
        "        vocabulary=unique_travel_purpose, mask_token=None),\n",
        "      tf.keras.layers.Embedding(len(unique_travel_purpose) + 1, 128),\n",
        "      tf.keras.layers.Dense(256, activation=\"tanh\"),\n",
        "    ])\n",
        "\n",
        "    # Compute embeddings for gender purpose.\n",
        "    self.gender_embeddings = tf.keras.Sequential([\n",
        "      tf.keras.layers.Embedding(2, 128),\n",
        "      tf.keras.layers.Dense(256, activation=\"tanh\"),\n",
        "    ])\n",
        "\n",
        "    # Compute embeddings for device purpose.\n",
        "    self.device_embeddings = tf.keras.Sequential([\n",
        "      tf.keras.layers.Embedding(2, 128),\n",
        "      tf.keras.layers.Dense(256, activation=\"tanh\"),\n",
        "    ])\n",
        "\n",
        "  def call(self, features: Dict[str, tf.Tensor]) -> tf.Tensor:\n",
        "    # Define how the ranking scores are computed: \n",
        "    # Take the dot-product of the user embeddings with the movie embeddings.\n",
        "\n",
        "    travel_embed = self.travel_embeddings(features[\"travel_purpose\"])\n",
        "    hotel_embed = self.hotel_embeddings(features[\"hotel_id\"])\n",
        "    gender_embed = self.gender_embeddings(features[\"gender\"])\n",
        "    device_embed = self.device_embeddings(features[\"desktop\"])\n",
        "\n",
        "    return tf.reduce_sum(travel_embed * gender_embed * device_embed * hotel_embed,  axis=2)"
      ]
    },
    {
      "cell_type": "markdown",
      "metadata": {
        "id": "BMV0HpzmJGWk"
      },
      "source": [
        "Create the model, and then compile it with ranking `tfr.keras.losses` and `tfr.keras.metrics`, which are the core of the TF-Ranking package. \n",
        "\n",
        "This example uses a ranking-specific **softmax loss**, which is a listwise loss introduced to promote all relevant items in the ranking list with better chances on top of the irrelevant ones. In contrast to the softmax loss in the multi-class classification problem, where only one class is positive and the rest are negative, the TF-Ranking library supports multiple relevant documents in a query list and non-binary relevance labels.\n",
        "\n",
        "For ranking metrics, this example uses in specific **Normalized Discounted Cumulative Gain (NDCG)** and **Mean Reciprocal Rank (MRR)**, which calculate the user utility of a ranked query list with position discounts. For more details about ranking metrics, review evaluation measures [offline metrics](https://en.wikipedia.org/wiki/Evaluation_measures_(information_retrieval)#Offline_metrics)."
      ]
    },
    {
      "cell_type": "code",
      "execution_count": null,
      "metadata": {
        "id": "H2tQDhqkOKf1",
        "vscode": {
          "languageId": "python"
        }
      },
      "outputs": [],
      "source": [
        "# Create the ranking model, trained with a ranking loss and evaluated with\n",
        "# ranking metrics.\n",
        "model = HotelRankingModel()\n",
        "optimizer = tf.keras.optimizers.Adam(0.0018)\n",
        "loss = tfr.keras.losses.get(\n",
        "    loss=tfr.keras.losses.RankingLossKey.SOFTMAX_LOSS, ragged=True)\n",
        "eval_metrics = [\n",
        "    tfr.keras.metrics.get(key=\"ndcg\", name=\"metric/ndcg\", ragged=True),\n",
        "    tfr.keras.metrics.get(key=\"mrr\", name=\"metric/mrr\", ragged=True)\n",
        "]\n",
        "model.compile(optimizer=optimizer, loss=loss, metrics=eval_metrics)"
      ]
    },
    {
      "cell_type": "markdown",
      "metadata": {
        "id": "NeBnBFMfVLzP"
      },
      "source": [
        "## Train and evaluate the model\n",
        "\n",
        "Train the model with `model.fit`."
      ]
    },
    {
      "cell_type": "code",
      "execution_count": null,
      "metadata": {
        "colab": {
          "base_uri": "https://localhost:8080/"
        },
        "id": "bzGm7WqSVNyP",
        "outputId": "3469d597-cf13-4de8-8b0a-ed639463ae54",
        "vscode": {
          "languageId": "python"
        }
      },
      "outputs": [
        {
          "name": "stdout",
          "output_type": "stream",
          "text": [
            "Epoch 1/50\n"
          ]
        },
        {
          "name": "stderr",
          "output_type": "stream",
          "text": [
            "/usr/local/lib/python3.7/dist-packages/tensorflow/python/framework/indexed_slices.py:446: UserWarning: Converting sparse IndexedSlices(IndexedSlices(indices=Tensor(\"gradient_tape/RaggedToTensor_2/boolean_mask_1/GatherV2:0\", shape=(None,), dtype=int32), values=Tensor(\"gradient_tape/RaggedToTensor_2/boolean_mask/GatherV2:0\", shape=(None,), dtype=float32), dense_shape=Tensor(\"gradient_tape/RaggedToTensor_2/Shape:0\", shape=(1,), dtype=int32))) to a dense Tensor of unknown shape. This may consume a large amount of memory.\n",
            "  \"shape. This may consume a large amount of memory.\" % value)\n",
            "/usr/local/lib/python3.7/dist-packages/tensorflow/python/framework/indexed_slices.py:446: UserWarning: Converting sparse IndexedSlices(IndexedSlices(indices=Tensor(\"gradient_tape/hotel_ranking_model_12/Reshape_5:0\", shape=(None,), dtype=int64), values=Tensor(\"gradient_tape/hotel_ranking_model_12/Reshape_4:0\", shape=(None, 256), dtype=float32), dense_shape=Tensor(\"gradient_tape/hotel_ranking_model_12/Cast_1:0\", shape=(2,), dtype=int32))) to a dense Tensor of unknown shape. This may consume a large amount of memory.\n",
            "  \"shape. This may consume a large amount of memory.\" % value)\n",
            "/usr/local/lib/python3.7/dist-packages/tensorflow/python/framework/indexed_slices.py:446: UserWarning: Converting sparse IndexedSlices(IndexedSlices(indices=Tensor(\"gradient_tape/hotel_ranking_model_12/Reshape_3:0\", shape=(None,), dtype=int64), values=Tensor(\"gradient_tape/hotel_ranking_model_12/Reshape_2:0\", shape=(None, 256), dtype=float32), dense_shape=Tensor(\"gradient_tape/hotel_ranking_model_12/Cast:0\", shape=(2,), dtype=int32))) to a dense Tensor of unknown shape. This may consume a large amount of memory.\n",
            "  \"shape. This may consume a large amount of memory.\" % value)\n",
            "/usr/local/lib/python3.7/dist-packages/tensorflow/python/framework/indexed_slices.py:446: UserWarning: Converting sparse IndexedSlices(IndexedSlices(indices=Tensor(\"gradient_tape/hotel_ranking_model_12/Reshape_11:0\", shape=(None,), dtype=int64), values=Tensor(\"gradient_tape/hotel_ranking_model_12/Reshape_10:0\", shape=(None, 256), dtype=float32), dense_shape=Tensor(\"gradient_tape/hotel_ranking_model_12/Cast_3:0\", shape=(2,), dtype=int32))) to a dense Tensor of unknown shape. This may consume a large amount of memory.\n",
            "  \"shape. This may consume a large amount of memory.\" % value)\n",
            "/usr/local/lib/python3.7/dist-packages/tensorflow/python/framework/indexed_slices.py:446: UserWarning: Converting sparse IndexedSlices(IndexedSlices(indices=Tensor(\"gradient_tape/hotel_ranking_model_12/Reshape_9:0\", shape=(None,), dtype=int64), values=Tensor(\"gradient_tape/hotel_ranking_model_12/Reshape_8:0\", shape=(None, 256), dtype=float32), dense_shape=Tensor(\"gradient_tape/hotel_ranking_model_12/Cast_2:0\", shape=(2,), dtype=int32))) to a dense Tensor of unknown shape. This may consume a large amount of memory.\n",
            "  \"shape. This may consume a large amount of memory.\" % value)\n",
            "/usr/local/lib/python3.7/dist-packages/tensorflow/python/framework/indexed_slices.py:446: UserWarning: Converting sparse IndexedSlices(IndexedSlices(indices=Tensor(\"gradient_tape/hotel_ranking_model_12/Reshape_15:0\", shape=(None,), dtype=int64), values=Tensor(\"gradient_tape/hotel_ranking_model_12/Reshape_14:0\", shape=(None, 256), dtype=float32), dense_shape=Tensor(\"gradient_tape/hotel_ranking_model_12/Cast_4:0\", shape=(2,), dtype=int32))) to a dense Tensor of unknown shape. This may consume a large amount of memory.\n",
            "  \"shape. This may consume a large amount of memory.\" % value)\n",
            "/usr/local/lib/python3.7/dist-packages/tensorflow/python/framework/indexed_slices.py:446: UserWarning: Converting sparse IndexedSlices(IndexedSlices(indices=Tensor(\"gradient_tape/hotel_ranking_model_12/Reshape_17:0\", shape=(None,), dtype=int64), values=Tensor(\"gradient_tape/hotel_ranking_model_12/Reshape_16:0\", shape=(None, 256), dtype=float32), dense_shape=Tensor(\"gradient_tape/hotel_ranking_model_12/Cast_5:0\", shape=(2,), dtype=int32))) to a dense Tensor of unknown shape. This may consume a large amount of memory.\n",
            "  \"shape. This may consume a large amount of memory.\" % value)\n"
          ]
        },
        {
          "name": "stdout",
          "output_type": "stream",
          "text": [
            "3/3 [==============================] - 12s 129ms/step - loss: 2696.0513 - metric/ndcg: 0.6648 - metric/mrr: 1.0000\n",
            "Epoch 2/50\n",
            "3/3 [==============================] - 1s 113ms/step - loss: 2696.0510 - metric/ndcg: 0.7269 - metric/mrr: 1.0000\n",
            "Epoch 3/50\n",
            "3/3 [==============================] - 1s 133ms/step - loss: 2696.0496 - metric/ndcg: 0.7439 - metric/mrr: 1.0000\n",
            "Epoch 4/50\n",
            "3/3 [==============================] - 1s 105ms/step - loss: 2696.0447 - metric/ndcg: 0.7542 - metric/mrr: 1.0000\n",
            "Epoch 5/50\n",
            "3/3 [==============================] - 1s 128ms/step - loss: 2696.0291 - metric/ndcg: 0.7625 - metric/mrr: 1.0000\n",
            "Epoch 6/50\n",
            "3/3 [==============================] - 1s 134ms/step - loss: 2695.9856 - metric/ndcg: 0.7650 - metric/mrr: 1.0000\n",
            "Epoch 7/50\n",
            "3/3 [==============================] - 1s 155ms/step - loss: 2695.8743 - metric/ndcg: 0.7702 - metric/mrr: 1.0000\n",
            "Epoch 8/50\n",
            "3/3 [==============================] - 1s 126ms/step - loss: 2695.6074 - metric/ndcg: 0.7693 - metric/mrr: 1.0000\n",
            "Epoch 9/50\n",
            "3/3 [==============================] - 1s 125ms/step - loss: 2695.0247 - metric/ndcg: 0.7661 - metric/mrr: 1.0000\n",
            "Epoch 10/50\n",
            "3/3 [==============================] - 1s 136ms/step - loss: 2693.9167 - metric/ndcg: 0.7668 - metric/mrr: 1.0000\n",
            "Epoch 11/50\n",
            "3/3 [==============================] - 1s 164ms/step - loss: 2692.3364 - metric/ndcg: 0.7638 - metric/mrr: 1.0000\n",
            "Epoch 12/50\n",
            "3/3 [==============================] - 1s 139ms/step - loss: 2691.0557 - metric/ndcg: 0.7734 - metric/mrr: 1.0000\n",
            "Epoch 13/50\n",
            "3/3 [==============================] - 1s 136ms/step - loss: 2689.9866 - metric/ndcg: 0.7807 - metric/mrr: 1.0000\n",
            "Epoch 14/50\n",
            "3/3 [==============================] - 1s 154ms/step - loss: 2688.9822 - metric/ndcg: 0.7909 - metric/mrr: 1.0000\n",
            "Epoch 15/50\n",
            "3/3 [==============================] - 1s 135ms/step - loss: 2688.2734 - metric/ndcg: 0.8020 - metric/mrr: 1.0000\n",
            "Epoch 16/50\n",
            "3/3 [==============================] - 1s 147ms/step - loss: 2687.6472 - metric/ndcg: 0.8124 - metric/mrr: 1.0000\n",
            "Epoch 17/50\n",
            "3/3 [==============================] - 1s 137ms/step - loss: 2686.9666 - metric/ndcg: 0.8171 - metric/mrr: 1.0000\n",
            "Epoch 18/50\n",
            "3/3 [==============================] - 1s 133ms/step - loss: 2686.3318 - metric/ndcg: 0.8259 - metric/mrr: 1.0000\n",
            "Epoch 19/50\n",
            "3/3 [==============================] - 1s 140ms/step - loss: 2685.7932 - metric/ndcg: 0.8344 - metric/mrr: 1.0000\n",
            "Epoch 20/50\n",
            "3/3 [==============================] - 1s 145ms/step - loss: 2685.2954 - metric/ndcg: 0.8381 - metric/mrr: 1.0000\n",
            "Epoch 21/50\n",
            "3/3 [==============================] - 1s 155ms/step - loss: 2684.8733 - metric/ndcg: 0.8398 - metric/mrr: 1.0000\n",
            "Epoch 22/50\n",
            "3/3 [==============================] - 1s 146ms/step - loss: 2684.5259 - metric/ndcg: 0.8431 - metric/mrr: 1.0000\n",
            "Epoch 23/50\n",
            "3/3 [==============================] - 1s 123ms/step - loss: 2684.2329 - metric/ndcg: 0.8489 - metric/mrr: 1.0000\n",
            "Epoch 24/50\n",
            "3/3 [==============================] - 1s 143ms/step - loss: 2683.9890 - metric/ndcg: 0.8512 - metric/mrr: 1.0000\n",
            "Epoch 25/50\n",
            "3/3 [==============================] - 1s 155ms/step - loss: 2683.7883 - metric/ndcg: 0.8540 - metric/mrr: 1.0000\n",
            "Epoch 26/50\n",
            "3/3 [==============================] - 1s 127ms/step - loss: 2683.6260 - metric/ndcg: 0.8575 - metric/mrr: 1.0000\n",
            "Epoch 27/50\n",
            "3/3 [==============================] - 1s 144ms/step - loss: 2683.4939 - metric/ndcg: 0.8595 - metric/mrr: 1.0000\n",
            "Epoch 28/50\n",
            "3/3 [==============================] - 1s 151ms/step - loss: 2683.3845 - metric/ndcg: 0.8616 - metric/mrr: 1.0000\n",
            "Epoch 29/50\n",
            "3/3 [==============================] - 1s 141ms/step - loss: 2683.2961 - metric/ndcg: 0.8652 - metric/mrr: 1.0000\n",
            "Epoch 30/50\n",
            "3/3 [==============================] - 1s 152ms/step - loss: 2683.2227 - metric/ndcg: 0.8651 - metric/mrr: 1.0000\n",
            "Epoch 31/50\n",
            "3/3 [==============================] - 1s 131ms/step - loss: 2683.1604 - metric/ndcg: 0.8669 - metric/mrr: 1.0000\n",
            "Epoch 32/50\n",
            "3/3 [==============================] - 1s 145ms/step - loss: 2683.1099 - metric/ndcg: 0.8669 - metric/mrr: 1.0000\n",
            "Epoch 33/50\n",
            "3/3 [==============================] - 1s 157ms/step - loss: 2683.0693 - metric/ndcg: 0.8658 - metric/mrr: 1.0000\n",
            "Epoch 34/50\n",
            "3/3 [==============================] - 1s 145ms/step - loss: 2683.0369 - metric/ndcg: 0.8676 - metric/mrr: 1.0000\n",
            "Epoch 35/50\n",
            "3/3 [==============================] - 1s 138ms/step - loss: 2683.0110 - metric/ndcg: 0.8690 - metric/mrr: 1.0000\n",
            "Epoch 36/50\n",
            "3/3 [==============================] - 1s 156ms/step - loss: 2682.9900 - metric/ndcg: 0.8691 - metric/mrr: 1.0000\n",
            "Epoch 37/50\n",
            "3/3 [==============================] - 1s 117ms/step - loss: 2682.9722 - metric/ndcg: 0.8693 - metric/mrr: 1.0000\n",
            "Epoch 38/50\n",
            "3/3 [==============================] - 1s 152ms/step - loss: 2682.9573 - metric/ndcg: 0.8691 - metric/mrr: 1.0000\n",
            "Epoch 39/50\n",
            "3/3 [==============================] - 1s 144ms/step - loss: 2682.9453 - metric/ndcg: 0.8694 - metric/mrr: 1.0000\n",
            "Epoch 40/50\n",
            "3/3 [==============================] - 1s 172ms/step - loss: 2682.9353 - metric/ndcg: 0.8689 - metric/mrr: 1.0000\n",
            "Epoch 41/50\n",
            "3/3 [==============================] - 1s 159ms/step - loss: 2682.9270 - metric/ndcg: 0.8680 - metric/mrr: 1.0000\n",
            "Epoch 42/50\n",
            "3/3 [==============================] - 1s 163ms/step - loss: 2682.9199 - metric/ndcg: 0.8702 - metric/mrr: 1.0000\n",
            "Epoch 43/50\n",
            "3/3 [==============================] - 1s 138ms/step - loss: 2682.9141 - metric/ndcg: 0.8689 - metric/mrr: 1.0000\n",
            "Epoch 44/50\n",
            "3/3 [==============================] - 1s 139ms/step - loss: 2682.9092 - metric/ndcg: 0.8711 - metric/mrr: 1.0000\n",
            "Epoch 45/50\n",
            "3/3 [==============================] - 1s 135ms/step - loss: 2682.9048 - metric/ndcg: 0.8671 - metric/mrr: 1.0000\n",
            "Epoch 46/50\n",
            "3/3 [==============================] - 1s 143ms/step - loss: 2682.9009 - metric/ndcg: 0.8697 - metric/mrr: 1.0000\n",
            "Epoch 47/50\n",
            "3/3 [==============================] - 1s 137ms/step - loss: 2682.8977 - metric/ndcg: 0.8699 - metric/mrr: 1.0000\n",
            "Epoch 48/50\n",
            "3/3 [==============================] - 1s 124ms/step - loss: 2682.8948 - metric/ndcg: 0.8699 - metric/mrr: 1.0000\n",
            "Epoch 49/50\n",
            "3/3 [==============================] - 1s 132ms/step - loss: 2682.8923 - metric/ndcg: 0.8711 - metric/mrr: 1.0000\n",
            "Epoch 50/50\n",
            "3/3 [==============================] - 1s 130ms/step - loss: 2682.8896 - metric/ndcg: 0.8721 - metric/mrr: 1.0000\n"
          ]
        },
        {
          "data": {
            "text/plain": [
              "<keras.callbacks.History at 0x7fd4b10d1f90>"
            ]
          },
          "execution_count": 77,
          "metadata": {},
          "output_type": "execute_result"
        }
      ],
      "source": [
        "model.fit(ds_train, epochs=50)"
      ]
    },
    {
      "cell_type": "code",
      "execution_count": null,
      "metadata": {
        "colab": {
          "base_uri": "https://localhost:8080/"
        },
        "id": "WNotTLjmItWv",
        "outputId": "aebfc4cc-3575-4de9-89ed-ee34d51ee58a",
        "vscode": {
          "languageId": "python"
        }
      },
      "outputs": [
        {
          "name": "stdout",
          "output_type": "stream",
          "text": [
            "Model: \"hotel_ranking_model_5\"\n",
            "_________________________________________________________________\n",
            " Layer (type)                Output Shape              Param #   \n",
            "=================================================================\n",
            " sequential_20 (Sequential)  (None, None, 256)         62080     \n",
            "                                                                 \n",
            " sequential_21 (Sequential)  (None, None, 256)         34816     \n",
            "                                                                 \n",
            " sequential_22 (Sequential)  (None, None, 256)         33280     \n",
            "                                                                 \n",
            " sequential_23 (Sequential)  (None, None, 256)         33280     \n",
            "                                                                 \n",
            "=================================================================\n",
            "Total params: 163,456\n",
            "Trainable params: 163,456\n",
            "Non-trainable params: 0\n",
            "_________________________________________________________________\n"
          ]
        }
      ],
      "source": [
        "model.summary()"
      ]
    },
    {
      "cell_type": "markdown",
      "metadata": {
        "id": "V5uuSRXZoOKW"
      },
      "source": [
        "Generate predictions and evaluate."
      ]
    },
    {
      "cell_type": "code",
      "execution_count": null,
      "metadata": {
        "colab": {
          "base_uri": "https://localhost:8080/"
        },
        "id": "6Hryvj3cPnvK",
        "outputId": "6854fde1-1cb2-4017-8583-0220aa2e7296",
        "vscode": {
          "languageId": "python"
        }
      },
      "outputs": [
        {
          "name": "stdout",
          "output_type": "stream",
          "text": [
            "Top 5 recommendations for user 42: [b'3000010002158' b'49722' b'239433' b'62310' b'305023']\n"
          ]
        }
      ],
      "source": [
        "\n",
        "\n",
        "# Generate the input for user 42.\n",
        "inputs = {\n",
        "    \"travel_purpose\":\n",
        "        tf.expand_dims(tf.repeat(\"Staycation\", repeats=unique_hotel_id.shape[0]), axis=0),\n",
        "    \"gender\":\n",
        "        tf.expand_dims(tf.repeat(1, repeats=unique_hotel_id.shape[0]), axis=0),\n",
        "    \"desktop\":\n",
        "        tf.expand_dims(tf.repeat(1, repeats=unique_hotel_id.shape[0]), axis=0),\n",
        "    \"hotel_id\":\n",
        "        tf.expand_dims(unique_hotel_id, axis=0)\n",
        "}\n",
        "\n",
        "# Get movie recommendations for user 42.\n",
        "scores = model(inputs)\n",
        "titles = tfr.utils.sort_by_scores(scores,\n",
        "                                  [tf.expand_dims(unique_hotel_id, axis=0)])[0]\n",
        "print(f\"Top 5 recommendations for user 42: {titles[0, :5]}\")"
      ]
    },
    {
      "cell_type": "code",
      "execution_count": null,
      "metadata": {
        "colab": {
          "base_uri": "https://localhost:8080/"
        },
        "id": "Lx4Z_-yLp6dV",
        "outputId": "06b72d65-4a9b-4f81-c38b-689a1ec42759",
        "vscode": {
          "languageId": "python"
        }
      },
      "outputs": [
        {
          "data": {
            "text/plain": [
              "<tf.Tensor: shape=(5,), dtype=float32, numpy=\n",
              "array([-0.07833742, -0.14340425, -0.39685816,  0.24377899, -0.521583  ],\n",
              "      dtype=float32)>"
            ]
          },
          "execution_count": 41,
          "metadata": {},
          "output_type": "execute_result"
        }
      ],
      "source": [
        "scores[0, :5]"
      ]
    },
    {
      "cell_type": "code",
      "execution_count": null,
      "metadata": {
        "colab": {
          "base_uri": "https://localhost:8080/"
        },
        "id": "ybu1g26Yg96S",
        "outputId": "7ea6df30-b204-45a2-981d-22a757c4e668",
        "vscode": {
          "languageId": "python"
        }
      },
      "outputs": [
        {
          "name": "stdout",
          "output_type": "stream",
          "text": [
            "Top 5 recommendations for user 42: [b'1000000471401' b'2000000218205' b'1' b'3000010014429' b'625695']\n",
            "Top 5 recommendations for user 42: [b'344819' b'3000010040418' b'2000000364013' b'3000010005459'\n",
            " b'3000020017037']\n"
          ]
        }
      ],
      "source": [
        "\n",
        "\n",
        "# Generate the input for user 42.\n",
        "inputs = {\n",
        "    \"travel_purpose\":\n",
        "        tf.expand_dims(tf.repeat(\"Backpacker\", repeats=unique_hotel_id.shape[0]), axis=0),\n",
        "    \"gender\":\n",
        "        tf.expand_dims(tf.repeat(1, repeats=unique_hotel_id.shape[0]), axis=0),\n",
        "    \"desktop\":\n",
        "        tf.expand_dims(tf.repeat(0, repeats=unique_hotel_id.shape[0]), axis=0),\n",
        "    \"hotel_id\":\n",
        "        tf.expand_dims(unique_hotel_id, axis=0)\n",
        "}\n",
        "\n",
        "# Get movie recommendations for user 42.\n",
        "scores = model(inputs)\n",
        "titles = tfr.utils.sort_by_scores(scores,\n",
        "                                  [tf.expand_dims(unique_hotel_id, axis=0)])[0]\n",
        "print(f\"Top 5 recommendations for user 42: {titles[0, :5]}\")\n",
        "print(f\"Top 5 recommendations for user 42: {titles[0, -5:]}\")"
      ]
    },
    {
      "cell_type": "code",
      "execution_count": null,
      "metadata": {
        "colab": {
          "base_uri": "https://localhost:8080/"
        },
        "id": "Cv5kXUmb_DTr",
        "outputId": "a35c66c3-4d1e-4de2-f4a1-fc82cc530b10",
        "vscode": {
          "languageId": "python"
        }
      },
      "outputs": [
        {
          "name": "stdout",
          "output_type": "stream",
          "text": [
            "Top 5 recommendations for user 42: [b'3000020007139' b'3000010010313' b'3000020018650' b'409115' b'4755']\n",
            "Top 5 recommendations for user 42: [b'624034' b'239433' b'1000000496074' b'3000010041546' b'3000010023653']\n"
          ]
        }
      ],
      "source": [
        "\n",
        "\n",
        "# Generate the input for user 42.\n",
        "inputs = {\n",
        "    \"travel_purpose\":\n",
        "        tf.expand_dims(tf.repeat(\"Backpacking\", repeats=unique_hotel_id.shape[0]), axis=0),\n",
        "    \"gender\":\n",
        "        tf.expand_dims(tf.repeat(1, repeats=unique_hotel_id.shape[0]), axis=0),\n",
        "    \"desktop\":\n",
        "        tf.expand_dims(tf.repeat(0, repeats=unique_hotel_id.shape[0]), axis=0),\n",
        "    \"hotel_id\":\n",
        "        tf.expand_dims(unique_hotel_id, axis=0)\n",
        "}\n",
        "\n",
        "# Get movie recommendations for user 42.\n",
        "scores = model(inputs)\n",
        "titles = tfr.utils.sort_by_scores(scores,\n",
        "                                  [tf.expand_dims(unique_hotel_id, axis=0)])[0]\n",
        "print(f\"Top 5 recommendations for user 42: {titles[0, :5]}\")\n",
        "print(f\"Top 5 recommendations for user 42: {titles[0, -5:]}\")"
      ]
    },
    {
      "cell_type": "code",
      "execution_count": null,
      "metadata": {
        "colab": {
          "base_uri": "https://localhost:8080/"
        },
        "id": "gwUV2-ww__U9",
        "outputId": "e1b2108c-8a01-49e0-d29a-88f398df6618",
        "vscode": {
          "languageId": "python"
        }
      },
      "outputs": [
        {
          "name": "stdout",
          "output_type": "stream",
          "text": [
            "Top 5 recommendations for user 42: [b'295675' b'3000010005459' b'9000000413948' b'344819' b'3000010036106']\n",
            "Top 5 recommendations for user 42: [b'149045' b'3000010041546' b'182170' b'62311' b'1000000471346']\n"
          ]
        }
      ],
      "source": [
        "\n",
        "\n",
        "# Generate the input for user 42.\n",
        "inputs = {\n",
        "    \"travel_purpose\":\n",
        "        tf.expand_dims(tf.repeat(\"Leisure\", repeats=unique_hotel_id.shape[0]), axis=0),\n",
        "    \"gender\":\n",
        "        tf.expand_dims(tf.repeat(1, repeats=unique_hotel_id.shape[0]), axis=0),\n",
        "    \"desktop\":\n",
        "        tf.expand_dims(tf.repeat(0, repeats=unique_hotel_id.shape[0]), axis=0),\n",
        "    \"hotel_id\":\n",
        "        tf.expand_dims(unique_hotel_id, axis=0)\n",
        "}\n",
        "\n",
        "# Get movie recommendations for user 42.\n",
        "scores = model(inputs)\n",
        "titles = tfr.utils.sort_by_scores(scores,\n",
        "                                  [tf.expand_dims(unique_hotel_id, axis=0)])[0]\n",
        "print(f\"Top 5 recommendations for user 42: {titles[0, :5]}\")\n",
        "print(f\"Top 5 recommendations for user 42: {titles[0, -5:]}\")"
      ]
    },
    {
      "cell_type": "code",
      "execution_count": null,
      "metadata": {
        "id": "yonoVMuuMSDk",
        "vscode": {
          "languageId": "python"
        }
      },
      "outputs": [],
      "source": [
        "hotel_ex = ['3000020003597', '544602', '239433', '8650', '564300']\n",
        "hotel_ex1 = np.array(hotel_ex)"
      ]
    },
    {
      "cell_type": "code",
      "execution_count": null,
      "metadata": {
        "colab": {
          "base_uri": "https://localhost:8080/"
        },
        "id": "aFPTDEj1MDyK",
        "outputId": "ebd857d7-0bb0-45c3-e1d1-73ec506a92c7",
        "vscode": {
          "languageId": "python"
        }
      },
      "outputs": [
        {
          "name": "stdout",
          "output_type": "stream",
          "text": [
            "Top 5 recommendations for user 42: [b'544602' b'3000020003597' b'8650' b'564300' b'239433']\n",
            "Top 5 recommendations for user 42: [b'544602' b'3000020003597' b'8650' b'564300' b'239433']\n"
          ]
        }
      ],
      "source": [
        "\n",
        "\n",
        "# Generate the input for user 42.\n",
        "inputs = {\n",
        "    \"travel_purpose\":\n",
        "        tf.expand_dims(tf.repeat(\"Leisure\", repeats=5), axis=0),\n",
        "    \"gender\":\n",
        "        tf.expand_dims(tf.repeat(1, repeats=5), axis=0),\n",
        "    \"desktop\":\n",
        "        tf.expand_dims(tf.repeat(0, repeats=5), axis=0),\n",
        "    \"hotel_id\":\n",
        "        tf.expand_dims(hotel_ex, axis=0)\n",
        "}\n",
        "\n",
        "# Get movie recommendations for user 42.\n",
        "scores = model(inputs)\n",
        "titles = tfr.utils.sort_by_scores(scores,\n",
        "                                  [tf.expand_dims(hotel_ex, axis=0)])[0]\n",
        "print(f\"Top 5 recommendations for user 42: {titles[0, :5]}\")\n",
        "print(f\"Top 5 recommendations for user 42: {titles[0, -5:]}\")"
      ]
    },
    {
      "cell_type": "code",
      "execution_count": null,
      "metadata": {
        "colab": {
          "base_uri": "https://localhost:8080/"
        },
        "id": "koLxhlcqQCV7",
        "outputId": "1e4ac0fa-9138-4c5a-efcd-f14e5e23f613",
        "vscode": {
          "languageId": "python"
        }
      },
      "outputs": [
        {
          "data": {
            "text/plain": [
              "[b'544602', b'3000020003597', b'8650', b'564300', b'239433']"
            ]
          },
          "execution_count": 47,
          "metadata": {},
          "output_type": "execute_result"
        }
      ],
      "source": [
        "list(titles.numpy().tolist())[0]"
      ]
    },
    {
      "cell_type": "code",
      "execution_count": null,
      "metadata": {
        "id": "UBk3eUHsFEcL",
        "vscode": {
          "languageId": "python"
        }
      },
      "outputs": [],
      "source": [
        "model.save_weights('./data/model_weight2')"
      ]
    },
    {
      "cell_type": "code",
      "execution_count": null,
      "metadata": {
        "id": "2sqKlGOIx0qi",
        "vscode": {
          "languageId": "python"
        }
      },
      "outputs": [],
      "source": [
        "loaded = HotelRankingModel()"
      ]
    },
    {
      "cell_type": "code",
      "execution_count": null,
      "metadata": {
        "colab": {
          "base_uri": "https://localhost:8080/"
        },
        "id": "lYmvc_ITKASP",
        "outputId": "886a9086-ec20-4465-858b-aec12db762f3",
        "vscode": {
          "languageId": "python"
        }
      },
      "outputs": [
        {
          "data": {
            "text/plain": [
              "<tensorflow.python.training.tracking.util.CheckpointLoadStatus at 0x7fd4ba5f2f90>"
            ]
          },
          "execution_count": 50,
          "metadata": {},
          "output_type": "execute_result"
        }
      ],
      "source": [
        "loaded.load_weights('./data/model_weight2')"
      ]
    },
    {
      "cell_type": "code",
      "execution_count": null,
      "metadata": {
        "colab": {
          "base_uri": "https://localhost:8080/"
        },
        "id": "jhoiQv46ObC3",
        "outputId": "1dd363da-38fb-400e-ff5a-9594024a4fa8",
        "vscode": {
          "languageId": "python"
        }
      },
      "outputs": [
        {
          "data": {
            "text/plain": [
              "__main__.HotelRankingModel"
            ]
          },
          "execution_count": 51,
          "metadata": {},
          "output_type": "execute_result"
        }
      ],
      "source": [
        "type(loaded)"
      ]
    },
    {
      "cell_type": "code",
      "execution_count": null,
      "metadata": {
        "colab": {
          "base_uri": "https://localhost:8080/"
        },
        "id": "a2KlHGl7yITA",
        "outputId": "47b5f0cb-80fb-4a94-9e67-842f0b500d47",
        "vscode": {
          "languageId": "python"
        }
      },
      "outputs": [
        {
          "name": "stdout",
          "output_type": "stream",
          "text": [
            "Top 5 recommendations for user 42: [b'3000020007139' b'3000010010313' b'3000020018650' b'409115' b'4755']\n",
            "Top 5 recommendations for user 42: [b'624034' b'239433' b'1000000496074' b'3000010041546' b'3000010023653']\n"
          ]
        }
      ],
      "source": [
        "\n",
        "\n",
        "# Generate the input for user 42.\n",
        "inputs = {\n",
        "    \"travel_purpose\":\n",
        "        tf.expand_dims(tf.repeat(\"Backpacking\", repeats=unique_hotel_id.shape[0]), axis=0),\n",
        "    \"desktop\":\n",
        "        tf.expand_dims(tf.repeat(0, repeats=unique_hotel_id.shape[0]), axis=0),\n",
        "    \"gender\":\n",
        "        tf.expand_dims(tf.repeat(1, repeats=unique_hotel_id.shape[0]), axis=0),\n",
        "    \"hotel_id\":\n",
        "        tf.expand_dims(unique_hotel_id, axis=0)\n",
        "}\n",
        "\n",
        "# Get movie recommendations for user 42.\n",
        "scores = loaded(inputs)\n",
        "titles = tfr.utils.sort_by_scores(scores,\n",
        "                                  [tf.expand_dims(unique_hotel_id, axis=0)])[0]\n",
        "print(f\"Top 5 recommendations for user 42: {titles[0, :5]}\")\n",
        "print(f\"Top 5 recommendations for user 42: {titles[0, -5:]}\")"
      ]
    },
    {
      "cell_type": "code",
      "execution_count": null,
      "metadata": {
        "colab": {
          "base_uri": "https://localhost:8080/"
        },
        "id": "rfB_2TVjQ-iR",
        "outputId": "68e7a07b-dbe1-4eda-e4ef-ca03fddec3de",
        "vscode": {
          "languageId": "python"
        }
      },
      "outputs": [
        {
          "name": "stdout",
          "output_type": "stream",
          "text": [
            "Top 5 recommendations for user 42: [b'3000020007139' b'3000010010313' b'3000020018650' b'409115' b'4755']\n",
            "Top 5 recommendations for user 42: [b'624034' b'239433' b'1000000496074' b'3000010041546' b'3000010023653']\n"
          ]
        }
      ],
      "source": [
        "\n",
        "\n",
        "# Generate the input for user 42.\n",
        "inputs = {\n",
        "    \"travel_purpose\":\n",
        "        tf.expand_dims(tf.repeat(\"Backpacking\", repeats=unique_hotel_id.shape[0]), axis=0),\n",
        "    \"desktop\":\n",
        "        tf.expand_dims(tf.repeat(False, repeats=unique_hotel_id.shape[0]), axis=0),\n",
        "    \"gender\":\n",
        "        tf.expand_dims(tf.repeat(True, repeats=unique_hotel_id.shape[0]), axis=0),\n",
        "    \"hotel_id\":\n",
        "        tf.expand_dims(unique_hotel_id, axis=0)\n",
        "}\n",
        "\n",
        "# Get movie recommendations for user 42.\n",
        "scores = loaded(inputs)\n",
        "titles = tfr.utils.sort_by_scores(scores,\n",
        "                                  [tf.expand_dims(unique_hotel_id, axis=0)])[0]\n",
        "print(f\"Top 5 recommendations for user 42: {titles[0, :5]}\")\n",
        "print(f\"Top 5 recommendations for user 42: {titles[0, -5:]}\")"
      ]
    },
    {
      "cell_type": "code",
      "execution_count": null,
      "metadata": {
        "id": "1kdPBwmQXRKx",
        "vscode": {
          "languageId": "python"
        }
      },
      "outputs": [],
      "source": [
        "np.save('data/unique_hotel_id', unique_hotel_id)"
      ]
    },
    {
      "cell_type": "code",
      "execution_count": null,
      "metadata": {
        "id": "s-oP-InSXiiP",
        "vscode": {
          "languageId": "python"
        }
      },
      "outputs": [],
      "source": [
        "a = np.load('data/unique_hotel_id.npy', allow_pickle=True)"
      ]
    },
    {
      "cell_type": "code",
      "execution_count": null,
      "metadata": {
        "id": "jo_sE10fIcHi",
        "vscode": {
          "languageId": "python"
        }
      },
      "outputs": [],
      "source": [
        "np.save('data/unique_travel_purpose', unique_travel_purpose)"
      ]
    },
    {
      "cell_type": "code",
      "execution_count": null,
      "metadata": {
        "id": "SkJ7mUNnMzZ7",
        "vscode": {
          "languageId": "python"
        }
      },
      "outputs": [],
      "source": [
        "b = np.load('data/unique_travel_purpose.npy', allow_pickle=True)"
      ]
    },
    {
      "cell_type": "code",
      "execution_count": null,
      "metadata": {
        "colab": {
          "base_uri": "https://localhost:8080/"
        },
        "id": "ZtnWDYfSR9D_",
        "outputId": "341cd1b3-9fc3-426b-e7ba-d739acab1859",
        "vscode": {
          "languageId": "python"
        }
      },
      "outputs": [
        {
          "data": {
            "text/plain": [
              "array([b'Backpacking', b'Business', b'Business travel',\n",
              "       b'Culture Sightseeings', b'Family vacation', b'Holiday',\n",
              "       b'Leisure', b'Medical', b'Medical Travel', b'Romantic Vacation',\n",
              "       b'Shopping & Culinary', b'Staycation', b'Transit'], dtype=object)"
            ]
          },
          "execution_count": 58,
          "metadata": {},
          "output_type": "execute_result"
        }
      ],
      "source": [
        "b"
      ]
    },
    {
      "cell_type": "code",
      "execution_count": null,
      "metadata": {
        "colab": {
          "base_uri": "https://localhost:8080/"
        },
        "id": "JoKYcGZJIjYH",
        "outputId": "3cf0f8a7-02bd-4c32-a0e8-9c0e85daa881",
        "vscode": {
          "languageId": "python"
        }
      },
      "outputs": [
        {
          "data": {
            "text/plain": [
              "numpy.ndarray"
            ]
          },
          "execution_count": 59,
          "metadata": {},
          "output_type": "execute_result"
        }
      ],
      "source": [
        "type(b)"
      ]
    },
    {
      "cell_type": "code",
      "execution_count": null,
      "metadata": {
        "id": "RqeT8Re8Ixtw",
        "vscode": {
          "languageId": "python"
        }
      },
      "outputs": [],
      "source": []
    }
  ],
  "metadata": {
    "colab": {
      "collapsed_sections": [],
      "name": "Ranking Quickstart test.ipynb",
      "provenance": []
    },
    "kernelspec": {
      "display_name": "Python 3",
      "language": "python",
      "name": "python3"
    }
  },
  "nbformat": 4,
  "nbformat_minor": 0
}
